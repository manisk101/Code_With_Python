{
 "cells": [
  {
   "cell_type": "code",
   "execution_count": 4,
   "id": "944b7762-1e1e-42c9-9389-2487eee53fc0",
   "metadata": {},
   "outputs": [
    {
     "name": "stdout",
     "output_type": "stream",
     "text": [
      "welcome, ok  how are you\n"
     ]
    }
   ],
   "source": [
    "k = \"welcome, hi how are you\"\n",
    "print(k.replace(\"hi\", \"ok \"))"
   ]
  },
  {
   "cell_type": "code",
   "execution_count": 6,
   "id": "9b056b32-9783-4caf-93b4-e2aa0a148331",
   "metadata": {},
   "outputs": [
    {
     "name": "stdout",
     "output_type": "stream",
     "text": [
      "be the change you wish to see in the world\n"
     ]
    }
   ],
   "source": [
    "k=\"Be tHe Change you wish to see in the world\"\n",
    "x = k.casefold()\n",
    "\n",
    "print(x)\n"
   ]
  },
  {
   "cell_type": "code",
   "execution_count": 3,
   "id": "83b8bf6d-8b53-4797-9434-e29fc6d7dfcf",
   "metadata": {},
   "outputs": [
    {
     "name": "stdout",
     "output_type": "stream",
     "text": [
      "straße\n",
      "strasse\n"
     ]
    }
   ],
   "source": [
    "s1 = \"Straße\"\n",
    "#s2 = \"STRASSE\"\n",
    "\n",
    "print(s1.lower())\n",
    "print(s1.casefold())"
   ]
  },
  {
   "cell_type": "code",
   "execution_count": 8,
   "id": "1c29c88c-0fa5-4770-a999-81636ac24e81",
   "metadata": {},
   "outputs": [
    {
     "name": "stdout",
     "output_type": "stream",
     "text": [
      "  hello   \n",
      "5\n",
      "10\n"
     ]
    }
   ],
   "source": [
    "k = \"hello\"\n",
    "\n",
    "x = k.center(10)\n",
    "\n",
    "print(x)\n",
    "print(len(k))\n",
    "print(len(x))"
   ]
  },
  {
   "cell_type": "code",
   "execution_count": 9,
   "id": "bf6c8717-7b36-4417-bcb5-6b3d0bae4a41",
   "metadata": {},
   "outputs": [
    {
     "name": "stdout",
     "output_type": "stream",
     "text": [
      "2\n"
     ]
    }
   ],
   "source": [
    "k=\"Be the change you wish to see in the world\"\n",
    "\n",
    "x = k.count(\"the\")\n",
    "\n",
    "print(x)"
   ]
  },
  {
   "cell_type": "code",
   "execution_count": 14,
   "id": "95661009-ab3b-4049-ab06-b0ef19797bb1",
   "metadata": {},
   "outputs": [
    {
     "name": "stdout",
     "output_type": "stream",
     "text": [
      "7\n"
     ]
    }
   ],
   "source": [
    "txt = \"Hello, welcome to my world.\"\n",
    "\n",
    "x = txt.index(\"w\")\n",
    "\n",
    "print(x)"
   ]
  },
  {
   "cell_type": "code",
   "execution_count": 13,
   "id": "b96e66c9-5aab-4506-a6ee-071cacbd0c07",
   "metadata": {},
   "outputs": [
    {
     "name": "stdout",
     "output_type": "stream",
     "text": [
      "True\n",
      "False\n"
     ]
    }
   ],
   "source": [
    "k = \"Hello, welcome to my world.\"\n",
    "\n",
    "x = k.startswith(\"H\")\n",
    "y = k.endswith(\"d\")\n",
    "\n",
    "print(x)\n",
    "print(y)"
   ]
  },
  {
   "cell_type": "code",
   "execution_count": 23,
   "id": "c8b69b33-bf42-4f1d-92f7-dc13642a2d32",
   "metadata": {},
   "outputs": [
    {
     "name": "stdout",
     "output_type": "stream",
     "text": [
      "bE THE CHANGE YOU WISH TO SEE IN THE WORLD\n"
     ]
    }
   ],
   "source": [
    "k=\"Be the change you wish to see in the world\"\n",
    "\n",
    "x = k.swapcase()\n",
    "\n",
    "print(x)"
   ]
  },
  {
   "cell_type": "code",
   "execution_count": 12,
   "id": "b667a967-a4ea-43ac-8048-676287b37e74",
   "metadata": {},
   "outputs": [
    {
     "name": "stdout",
     "output_type": "stream",
     "text": [
      "True\n"
     ]
    }
   ],
   "source": [
    "k = \"565543\"\n",
    "\n",
    "x = k.isnumeric()\n",
    "\n",
    "print(x)"
   ]
  },
  {
   "cell_type": "code",
   "execution_count": 13,
   "id": "cbb744be-9ed3-4069-bf3b-c4c3cf1ff95d",
   "metadata": {},
   "outputs": [
    {
     "name": "stdout",
     "output_type": "stream",
     "text": [
      "False\n"
     ]
    }
   ],
   "source": [
    "k = \"apple\"\n",
    "\n",
    "x = k.isalpha()\n",
    "\n",
    "print(x)"
   ]
  },
  {
   "cell_type": "code",
   "execution_count": null,
   "id": "fc1d7957-d681-4bca-876a-1d10d9016514",
   "metadata": {},
   "outputs": [],
   "source": [
    "    "
   ]
  }
 ],
 "metadata": {
  "kernelspec": {
   "display_name": "Python 3 (ipykernel)",
   "language": "python",
   "name": "python3"
  },
  "language_info": {
   "codemirror_mode": {
    "name": "ipython",
    "version": 3
   },
   "file_extension": ".py",
   "mimetype": "text/x-python",
   "name": "python",
   "nbconvert_exporter": "python",
   "pygments_lexer": "ipython3",
   "version": "3.12.4"
  }
 },
 "nbformat": 4,
 "nbformat_minor": 5
}
