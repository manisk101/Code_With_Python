{
 "cells": [
  {
   "cell_type": "code",
   "execution_count": 7,
   "id": "56ff8bd7",
   "metadata": {},
   "outputs": [],
   "source": [
    "print(\"gfdtghd\")"
   ]
  },
  {
   "cell_type": "code",
   "execution_count": 1,
   "id": "a6ca02a8",
   "metadata": {},
   "outputs": [
    {
     "data": {
      "text/plain": [
       "'3.12.4 | packaged by Anaconda, Inc. | (main, Jun 18 2024, 15:03:56) [MSC v.1929 64 bit (AMD64)]'"
      ]
     },
     "execution_count": 1,
     "metadata": {},
     "output_type": "execute_result"
    }
   ],
   "source": [
    "import sys\n",
    "sys.version"
   ]
  },
  {
   "cell_type": "markdown",
   "id": "ed3c0fef",
   "metadata": {},
   "source": [
    "## single line comment"
   ]
  },
  {
   "cell_type": "code",
   "execution_count": 1,
   "id": "867a261b",
   "metadata": {},
   "outputs": [
    {
     "ename": "NameError",
     "evalue": "name 'a' is not defined",
     "output_type": "error",
     "traceback": [
      "\u001b[1;31m---------------------------------------------------------------------------\u001b[0m",
      "\u001b[1;31mNameError\u001b[0m                                 Traceback (most recent call last)",
      "Cell \u001b[1;32mIn[1], line 5\u001b[0m\n\u001b[0;32m      1\u001b[0m \u001b[38;5;66;03m#using  we can comment single line ex:\u001b[39;00m\n\u001b[0;32m      2\u001b[0m \n\u001b[0;32m      3\u001b[0m \u001b[38;5;66;03m#a=5\u001b[39;00m\n\u001b[0;32m      4\u001b[0m b\u001b[38;5;241m=\u001b[39m\u001b[38;5;241m10\u001b[39m\n\u001b[1;32m----> 5\u001b[0m \u001b[38;5;28mprint\u001b[39m(a)\n",
      "\u001b[1;31mNameError\u001b[0m: name 'a' is not defined"
     ]
    }
   ],
   "source": [
    "#using  we can comment single line ex:\n",
    "\n",
    "#a=5\n",
    "b=10\n",
    "print(a)"
   ]
  },
  {
   "cell_type": "markdown",
   "id": "c5259525",
   "metadata": {},
   "source": [
    "## multiline comment"
   ]
  },
  {
   "cell_type": "code",
   "execution_count": 7,
   "id": "24d53291",
   "metadata": {},
   "outputs": [
    {
     "data": {
      "text/plain": [
       "'a=5\\nb=10\\nprint(a+b)'"
      ]
     },
     "execution_count": 7,
     "metadata": {},
     "output_type": "execute_result"
    }
   ],
   "source": [
    "# using ''' we can comment multiline ex:\n",
    "\n",
    "'''a=5\n",
    "b=10\n",
    "print(a+b)'''"
   ]
  },
  {
   "cell_type": "markdown",
   "id": "129c6595",
   "metadata": {},
   "source": [
    "##  legal variables"
   ]
  },
  {
   "cell_type": "code",
   "execution_count": 8,
   "id": "095421c3",
   "metadata": {},
   "outputs": [],
   "source": [
    "number = 1\n",
    "num_ber = 1\n",
    "_num_ber =1\n",
    "nuMbEr =1\n",
    "NUMBER =1\n",
    "NUMBER1 =1"
   ]
  },
  {
   "cell_type": "markdown",
   "id": "b2c23a0c",
   "metadata": {},
   "source": [
    "## Illegal variable names"
   ]
  },
  {
   "cell_type": "code",
   "execution_count": 1,
   "id": "9953a837",
   "metadata": {},
   "outputs": [
    {
     "ename": "SyntaxError",
     "evalue": "invalid decimal literal (2236074312.py, line 1)",
     "output_type": "error",
     "traceback": [
      "\u001b[1;36m  Cell \u001b[1;32mIn[1], line 1\u001b[1;36m\u001b[0m\n\u001b[1;33m    1number =1\u001b[0m\n\u001b[1;37m    ^\u001b[0m\n\u001b[1;31mSyntaxError\u001b[0m\u001b[1;31m:\u001b[0m invalid decimal literal\n"
     ]
    }
   ],
   "source": [
    "1number =1\n",
    "num-ber =1\n",
    "my var =1\n"
   ]
  },
  {
   "cell_type": "markdown",
   "id": "0c6d842b",
   "metadata": {},
   "source": [
    "## Assign Multiple Values"
   ]
  },
  {
   "cell_type": "code",
   "execution_count": 2,
   "id": "3c615c28",
   "metadata": {},
   "outputs": [
    {
     "data": {
      "text/plain": [
       "'orange'"
      ]
     },
     "execution_count": 2,
     "metadata": {},
     "output_type": "execute_result"
    }
   ],
   "source": [
    "k=l=m=\"orange\"\n",
    "l"
   ]
  },
  {
   "cell_type": "code",
   "execution_count": 7,
   "id": "5d4a363b",
   "metadata": {},
   "outputs": [
    {
     "data": {
      "text/plain": [
       "'banana'"
      ]
     },
     "execution_count": 7,
     "metadata": {},
     "output_type": "execute_result"
    }
   ],
   "source": [
    "k,l,m=\"orange\",\"apple\",\"banana\"\n",
    "m"
   ]
  },
  {
   "cell_type": "markdown",
   "id": "3565b08c",
   "metadata": {},
   "source": [
    "## static value\n"
   ]
  },
  {
   "cell_type": "code",
   "execution_count": 10,
   "id": "e2e700eb",
   "metadata": {},
   "outputs": [
    {
     "name": "stdout",
     "output_type": "stream",
     "text": [
      "576\n"
     ]
    }
   ],
   "source": [
    "k=120\n",
    "l=456\n",
    "print(k+l)"
   ]
  },
  {
   "cell_type": "markdown",
   "id": "1156b83b",
   "metadata": {},
   "source": [
    "## dynamic value"
   ]
  },
  {
   "cell_type": "code",
   "execution_count": 9,
   "id": "d59cc540",
   "metadata": {},
   "outputs": [
    {
     "name": "stdin",
     "output_type": "stream",
     "text": [
      " 67\n"
     ]
    },
    {
     "name": "stdout",
     "output_type": "stream",
     "text": [
      "67\n"
     ]
    }
   ],
   "source": [
    "k=input()\n",
    "print(k)"
   ]
  },
  {
   "cell_type": "code",
   "execution_count": null,
   "id": "f5d6de8f",
   "metadata": {},
   "outputs": [],
   "source": []
  }
 ],
 "metadata": {
  "kernelspec": {
   "display_name": "Python 3 (ipykernel)",
   "language": "python",
   "name": "python3"
  },
  "language_info": {
   "codemirror_mode": {
    "name": "ipython",
    "version": 3
   },
   "file_extension": ".py",
   "mimetype": "text/x-python",
   "name": "python",
   "nbconvert_exporter": "python",
   "pygments_lexer": "ipython3",
   "version": "3.12.4"
  }
 },
 "nbformat": 4,
 "nbformat_minor": 5
}
