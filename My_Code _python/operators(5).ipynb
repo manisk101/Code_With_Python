{
 "cells": [
  {
   "cell_type": "markdown",
   "id": "12288d1c",
   "metadata": {},
   "source": [
    "#  Python Logical Operators"
   ]
  },
  {
   "cell_type": "markdown",
   "id": "938a4749",
   "metadata": {},
   "source": [
    "### and\n",
    "### or\n",
    "### not"
   ]
  },
  {
   "cell_type": "code",
   "execution_count": 1,
   "id": "23cdeb7c",
   "metadata": {},
   "outputs": [
    {
     "name": "stdout",
     "output_type": "stream",
     "text": [
      "False\n"
     ]
    }
   ],
   "source": [
    "a = 15\n",
    "\n",
    "\n",
    "print(a > 5 and a < 10)"
   ]
  },
  {
   "cell_type": "code",
   "execution_count": 2,
   "id": "01605f32",
   "metadata": {},
   "outputs": [
    {
     "name": "stdout",
     "output_type": "stream",
     "text": [
      "False\n"
     ]
    }
   ],
   "source": [
    "print(a > 3 and a < 4)"
   ]
  },
  {
   "cell_type": "code",
   "execution_count": null,
   "id": "290aa2e1",
   "metadata": {},
   "outputs": [],
   "source": [
    "print(a > 3 or a < 10)"
   ]
  },
  {
   "cell_type": "code",
   "execution_count": null,
   "id": "b54df9ce",
   "metadata": {},
   "outputs": [],
   "source": [
    "print(not(a > 3 or a < 4))"
   ]
  },
  {
   "cell_type": "markdown",
   "id": "7222bb2f",
   "metadata": {},
   "source": [
    "# Python Identity Operators\n"
   ]
  },
  {
   "cell_type": "markdown",
   "id": "aab18154",
   "metadata": {},
   "source": [
    "## is "
   ]
  },
  {
   "cell_type": "markdown",
   "id": "ec19b177",
   "metadata": {},
   "source": [
    "## is not"
   ]
  },
  {
   "cell_type": "code",
   "execution_count": 1,
   "id": "881b1502",
   "metadata": {},
   "outputs": [
    {
     "name": "stdout",
     "output_type": "stream",
     "text": [
      "True\n",
      "False\n",
      "True\n"
     ]
    }
   ],
   "source": [
    "x =[\"apple\"]\n",
    "y =[\"apple\"]\n",
    "z = x\n",
    "\n",
    "\n",
    "print(x is z)\n",
    "print(x is y)\n",
    "print(x == y)\n"
   ]
  },
  {
   "cell_type": "code",
   "execution_count": 20,
   "id": "6ed81c67-97a6-433d-a091-16d853357f0d",
   "metadata": {},
   "outputs": [
    {
     "name": "stdout",
     "output_type": "stream",
     "text": [
      "False\n"
     ]
    }
   ],
   "source": [
    "X=257\n",
    "Y=257\n",
    "print(X is Y)"
   ]
  },
  {
   "cell_type": "code",
   "execution_count": null,
   "id": "b4f139db",
   "metadata": {},
   "outputs": [],
   "source": [
    "\n",
    "print(x is not z)\n",
    "print(x is not y)\n"
   ]
  },
  {
   "cell_type": "markdown",
   "id": "dd00f1a9",
   "metadata": {},
   "source": [
    "## Python Membership Operators"
   ]
  },
  {
   "cell_type": "markdown",
   "id": "a6755007",
   "metadata": {},
   "source": [
    "### in\n",
    "### not in "
   ]
  },
  {
   "cell_type": "code",
   "execution_count": 21,
   "id": "b139c913",
   "metadata": {},
   "outputs": [
    {
     "name": "stdout",
     "output_type": "stream",
     "text": [
      "True\n"
     ]
    }
   ],
   "source": [
    "a=\"apple\"\n",
    "\n",
    "print(\"s\"  not in a)"
   ]
  },
  {
   "cell_type": "code",
   "execution_count": 22,
   "id": "70b5490d",
   "metadata": {},
   "outputs": [
    {
     "name": "stdout",
     "output_type": "stream",
     "text": [
      "False\n"
     ]
    }
   ],
   "source": [
    "a=\"apple\"\n",
    "\n",
    "print(\"e\"  not in a)"
   ]
  },
  {
   "cell_type": "code",
   "execution_count": null,
   "id": "e6309df1-0516-4b0a-b10c-9129ae34bf0d",
   "metadata": {},
   "outputs": [],
   "source": [
    "|"
   ]
  }
 ],
 "metadata": {
  "kernelspec": {
   "display_name": "Python 3 (ipykernel)",
   "language": "python",
   "name": "python3"
  },
  "language_info": {
   "codemirror_mode": {
    "name": "ipython",
    "version": 3
   },
   "file_extension": ".py",
   "mimetype": "text/x-python",
   "name": "python",
   "nbconvert_exporter": "python",
   "pygments_lexer": "ipython3",
   "version": "3.12.4"
  }
 },
 "nbformat": 4,
 "nbformat_minor": 5
}
