{
 "cells": [
  {
   "cell_type": "code",
   "execution_count": 4,
   "id": "9b414a64-cbe2-44d7-9ef0-de3a3de96cb5",
   "metadata": {},
   "outputs": [
    {
     "name": "stdin",
     "output_type": "stream",
     "text": [
      "enter the string : silent\n",
      "enter the string2 : lisent\n"
     ]
    },
    {
     "name": "stdout",
     "output_type": "stream",
     "text": [
      "anagrams\n"
     ]
    }
   ],
   "source": [
    "str1=input(\"enter the string :\")\n",
    "str2=input(\"enter the string2 :\")\n",
    "sort1=''.join(sorted(str1))\n",
    "sort2=''.join(sorted(str2))\n",
    "if sort1==sort2:\n",
    "    print(\"anagrams\")\n",
    "else:\n",
    "    print(\"not anagrams\")"
   ]
  },
  {
   "cell_type": "code",
   "execution_count": 6,
   "id": "b8da5058-4639-4b26-9662-c42d079d7488",
   "metadata": {},
   "outputs": [
    {
     "name": "stdin",
     "output_type": "stream",
     "text": [
      " enter the string : mani\n"
     ]
    },
    {
     "name": "stdout",
     "output_type": "stream",
     "text": [
      "not palindrome\n"
     ]
    }
   ],
   "source": [
    "#palindrome or not  in string\n",
    "str1=input(\" enter the string :\")\n",
    "rev=\"\"\n",
    "for i in str1:\n",
    "    rev=i+rev\n",
    "if(rev==str1):\n",
    "    print(\"palindrome\")\n",
    "else:\n",
    "    print(\"not palindrome\")\n",
    "    "
   ]
  },
  {
   "cell_type": "code",
   "execution_count": 18,
   "id": "598bdffb-1505-40a8-93de-429c1856a23b",
   "metadata": {},
   "outputs": [
    {
     "name": "stdin",
     "output_type": "stream",
     "text": [
      "enter the numbre 101\n"
     ]
    },
    {
     "name": "stdout",
     "output_type": "stream",
     "text": [
      "101\n",
      "palindrome\n"
     ]
    }
   ],
   "source": [
    "#palindrome or not  in number\n",
    "num=int(input(\"enter the numbre\"))\n",
    "temp=num\n",
    "rev=0\n",
    "while num>0:\n",
    "    rem=num%10\n",
    "    rev=rev*10+rem\n",
    "    num=num//10\n",
    "print(rev)\n",
    "if temp==rev:\n",
    "    print(\"palindrome\")\n",
    "else:\n",
    "    print(\"not palindrome\")"
   ]
  },
  {
   "cell_type": "code",
   "execution_count": 18,
   "id": "fc115336-6bc7-43b6-8ee4-593229a23541",
   "metadata": {},
   "outputs": [
    {
     "name": "stdin",
     "output_type": "stream",
     "text": [
      "enter the number : 10\n"
     ]
    },
    {
     "name": "stdout",
     "output_type": "stream",
     "text": [
      "10 is not prime number\n"
     ]
    }
   ],
   "source": [
    "#prime or not \n",
    "n=int(input(\"enter the number :\"))\n",
    "prime=False\n",
    "\n",
    "if n==1 or n==0:\n",
    "    print(\"is not prime number\")\n",
    "elif n>1:\n",
    "    for i in range(2,n,1):\n",
    "        if (n%i==0):\n",
    "            prime=True\n",
    "            break\n",
    "if prime:\n",
    "    print(n,\"is not prime number\")\n",
    "else:\n",
    "    print(n,\"is prime number\")\n",
    "      \n",
    "      \n",
    "      \n",
    "      "
   ]
  },
  {
   "cell_type": "code",
   "execution_count": 10,
   "id": "2d3472fe-87fe-457b-83e5-18160ef8281e",
   "metadata": {},
   "outputs": [
    {
     "name": "stdin",
     "output_type": "stream",
     "text": [
      "enter the number 10\n"
     ]
    },
    {
     "name": "stdout",
     "output_type": "stream",
     "text": [
      "0 1 1 2 3 5 8 13 21 34 "
     ]
    }
   ],
   "source": [
    "#Fibonacci series\n",
    "num=int(input(\"enter the number\"))\n",
    "count=0\n",
    "f=0\n",
    "s=1\n",
    "if num==1:\n",
    "    print(f)\n",
    "elif num==0:\n",
    "    print(\"enter the valid input\")\n",
    "elif num>1:\n",
    "    while(num>count):\n",
    "        print(f,end=' ')       \n",
    "        third=f+s\n",
    "        f=s\n",
    "        s=third\n",
    "        count+=1\n",
    "        \n",
    "\n",
    "    \n"
   ]
  },
  {
   "cell_type": "code",
   "execution_count": 11,
   "id": "4266f324-9d97-4f9c-abed-29451c1fdb18",
   "metadata": {},
   "outputs": [
    {
     "name": "stdin",
     "output_type": "stream",
     "text": [
      "enter the number 10\n"
     ]
    },
    {
     "name": "stdout",
     "output_type": "stream",
     "text": [
      "even\n"
     ]
    }
   ],
   "source": [
    "num=int(input(\"enter the number\"))\n",
    "if num%2==0:\n",
    "    print(\"even\")\n",
    "else:\n",
    "    print(\"odd\")"
   ]
  },
  {
   "cell_type": "code",
   "execution_count": 12,
   "id": "4e0ab51f-d07b-4b54-aaca-7c932396562b",
   "metadata": {},
   "outputs": [
    {
     "name": "stdin",
     "output_type": "stream",
     "text": [
      "enter the num1 10\n",
      "enter the num2 40\n",
      "enter the num3 20\n"
     ]
    },
    {
     "name": "stdout",
     "output_type": "stream",
     "text": [
      "40 is larger\n"
     ]
    }
   ],
   "source": [
    "num1=int(input(\"enter the num1\"))\n",
    "num2=int(input(\"enter the num2\"))\n",
    "num3=int(input(\"enter the num3\"))\n",
    "if num1>num2 and num1>num3:\n",
    "    print(num1,\"is larger\")\n",
    "elif num2>num3:\n",
    "    print(num2,\"is larger\")\n",
    "else:\n",
    "    print(num3,\"is larger\")"
   ]
  },
  {
   "cell_type": "code",
   "execution_count": 13,
   "id": "6bc85a63-2626-4248-816a-08e6c2245ae5",
   "metadata": {},
   "outputs": [
    {
     "name": "stdout",
     "output_type": "stream",
     "text": [
      "{1: 1, 4: 3, 5: 3, 6: 1, 3: 1, 2: 1, 7: 1, 8: 1}\n"
     ]
    }
   ],
   "source": [
    "l=[1,4,5,5,6,4,5,3,2,4,7,8]\n",
    "dic={}\n",
    "for i in l:\n",
    "    if i in dic:\n",
    "        dic[i]+=1\n",
    "    else:\n",
    "        dic[i]=1\n",
    "print(dic)"
   ]
  },
  {
   "cell_type": "code",
   "execution_count": null,
   "id": "3ac50800-7d9b-4ca4-8a50-6990e711b1a8",
   "metadata": {},
   "outputs": [],
   "source": [
    "mul=int(input(\"enter the multiplier\"))\n",
    "rang=int(input(\"enter the range\"))\n",
    "for i in range(1,rang+1,1):\n",
    "    print(f'{i}X{mul}={i*mul}')"
   ]
  },
  {
   "cell_type": "code",
   "execution_count": 6,
   "id": "51b95439-ed45-4f52-bc50-065eb4210975",
   "metadata": {},
   "outputs": [
    {
     "name": "stdin",
     "output_type": "stream",
     "text": [
      "enter the number 153\n"
     ]
    },
    {
     "name": "stdout",
     "output_type": "stream",
     "text": [
      "the is amstrong number\n"
     ]
    }
   ],
   "source": [
    "#### amstrong number\n",
    "number=int(input(\"enter the number\"))\n",
    "sum1=0\n",
    "pow1=len(str(number))\n",
    "temp=number\n",
    "while temp>0:\n",
    "    rem=temp%10\n",
    "    sum1+=rem**pow1\n",
    "    temp//=10\n",
    "if number==sum1:\n",
    "    print(\"the is amstrong number\")\n",
    "else:\n",
    "    print(\"not amstrong\")\n"
   ]
  },
  {
   "cell_type": "code",
   "execution_count": 10,
   "id": "240ef195-742d-47c5-b86b-8942438a96d0",
   "metadata": {},
   "outputs": [
    {
     "name": "stdout",
     "output_type": "stream",
     "text": [
      "[1, 3, 2, 4, 5, 6, 7]\n"
     ]
    }
   ],
   "source": [
    "#remove duplicate in list\n",
    "l=[1,3,2,3,4,5,6,7,6,5,4]\n",
    "l2=[]\n",
    "for i in l:\n",
    "    if i not in l2:\n",
    "        l2.append(i)\n",
    "print(l2)"
   ]
  },
  {
   "cell_type": "code",
   "execution_count": 12,
   "id": "30bb67dd-a5b3-4498-91f9-69ab623908e9",
   "metadata": {},
   "outputs": [
    {
     "data": {
      "text/plain": [
       "[1, 2, 3, 3, 3, 3, 4, 5, 5, 6, 7, 8, 9]"
      ]
     },
     "execution_count": 12,
     "metadata": {},
     "output_type": "execute_result"
    }
   ],
   "source": [
    "#meege sorted of two list\n",
    "l1=[1,3,3,5,3,6,2]\n",
    "l2=[5,7,8,9,4,3]\n",
    "c=sorted(l1+l2)\n",
    "c"
   ]
  },
  {
   "cell_type": "code",
   "execution_count": 13,
   "id": "cd73ec19-04e8-4210-9937-6c57ba2f1508",
   "metadata": {},
   "outputs": [
    {
     "name": "stdin",
     "output_type": "stream",
     "text": [
      "enter the year: 2004\n"
     ]
    },
    {
     "name": "stdout",
     "output_type": "stream",
     "text": [
      "its leap year\n"
     ]
    }
   ],
   "source": [
    "#check leap year or not\n",
    "year=int(input(\"enter the year:\"))\n",
    "if year%400==0 and year%100==0:\n",
    "    print(\"its leap year\")\n",
    "elif year%4==0 and year%100!=0:\n",
    "    print(\"its leap year\")\n",
    "else:\n",
    "    print(\"not leap year\")"
   ]
  },
  {
   "cell_type": "code",
   "execution_count": 16,
   "id": "e74bea6e-aeed-411c-9aba-bcc9a1b067ff",
   "metadata": {},
   "outputs": [
    {
     "name": "stdout",
     "output_type": "stream",
     "text": [
      "[1, 3, 4, 5, 6]\n"
     ]
    }
   ],
   "source": [
    "#print comman elemnt in list\n",
    "l=[1,3,4,5,6,5,6,4]\n",
    "l2=[1,3,4,5,6,5,6,4]\n",
    "comn=[]\n",
    "for i in l:\n",
    "    if i in l2:\n",
    "        if i not in comn:\n",
    "            comn.append(i)\n",
    "print(comn)"
   ]
  },
  {
   "cell_type": "code",
   "execution_count": 18,
   "id": "9f37bb37-84f5-4fd5-8937-2adcb70d31fc",
   "metadata": {},
   "outputs": [
    {
     "name": "stdin",
     "output_type": "stream",
     "text": [
      "enter the radius of circle 5\n"
     ]
    },
    {
     "name": "stdout",
     "output_type": "stream",
     "text": [
      "78.55\n"
     ]
    }
   ],
   "source": [
    "r=int(input(\"enter the radius of circle\"))\n",
    "PI=3.142\n",
    "area=PI*r**2\n",
    "print(area)"
   ]
  },
  {
   "cell_type": "code",
   "execution_count": 19,
   "id": "843ef156-9b70-4038-9bf8-f177fccb33a5",
   "metadata": {},
   "outputs": [
    {
     "name": "stdin",
     "output_type": "stream",
     "text": [
      "enter the base value 2\n",
      "enter the exponent 2\n"
     ]
    },
    {
     "name": "stdout",
     "output_type": "stream",
     "text": [
      "4\n"
     ]
    }
   ],
   "source": [
    "base=int(input(\"enter the base value\"))\n",
    "exp=int(input(\"enter the exponent\"))\n",
    "ans=1\n",
    "for i in range(exp):\n",
    "    ans*=base\n",
    "print(ans)\n"
   ]
  },
  {
   "cell_type": "code",
   "execution_count": 4,
   "id": "c337f54b-dcd8-4537-8bec-be671a2fada8",
   "metadata": {},
   "outputs": [
    {
     "name": "stdout",
     "output_type": "stream",
     "text": [
      "second smallest  83\n",
      "second largest  4\n"
     ]
    }
   ],
   "source": [
    "l=[1,3,4,5,6,7,8,66,77,83]\n",
    "s=sorted(l)\n",
    "print(\"second smallest \",s[-1])\n",
    "print(\"second largest \",s[2])"
   ]
  },
  {
   "cell_type": "code",
   "execution_count": 2,
   "id": "4f99716a-bcb0-4efe-b1af-f1ef82c0bd05",
   "metadata": {},
   "outputs": [
    {
     "name": "stdin",
     "output_type": "stream",
     "text": [
      "enter the number 0\n"
     ]
    },
    {
     "name": "stdout",
     "output_type": "stream",
     "text": [
      "0 number is Zero\n"
     ]
    }
   ],
   "source": [
    "# postive ,negative or Zero\n",
    "num=int(input(\"enter the number\"))\n",
    "if num>0:\n",
    "    print(num,\"number is positive\")\n",
    "elif num<0:\n",
    "    print(num,\"number is negative\")\n",
    "else:\n",
    "    print(num,\"number is Zero\")"
   ]
  },
  {
   "cell_type": "code",
   "execution_count": 6,
   "id": "0c6104ea-fc7e-4e63-8a39-7344604e4401",
   "metadata": {},
   "outputs": [
    {
     "name": "stdout",
     "output_type": "stream",
     "text": [
      "acending oder [1, 2, 3, 4, 5, 6, 7, 8, 66, 77, 83]\n",
      "decending order [83, 77, 66, 8, 7, 6, 5, 4, 3, 2, 1]\n"
     ]
    }
   ],
   "source": [
    "#sort acceding and decending order\n",
    "l=[1,3,4,5,6,7,8,66,77,2,1,83]\n",
    "sort=list(sorted(set(l)))\n",
    "print(\"acending oder\",sort)\n",
    "print(\"decending order\",sort[::-1])"
   ]
  },
  {
   "cell_type": "code",
   "execution_count": 17,
   "id": "774b58e4-6fa6-4a45-b9f7-f922a95ed548",
   "metadata": {},
   "outputs": [
    {
     "name": "stdout",
     "output_type": "stream",
     "text": [
      "Original List: [76, 23, 45, 12, 54, 9]\n",
      "76 23\n",
      "76 23\n",
      "23 76\n",
      "[23, 76, 45, 12, 54, 9]\n",
      "23 45\n",
      "23 12\n",
      "23 12\n",
      "12 23\n",
      "[12, 76, 45, 23, 54, 9]\n",
      "12 54\n",
      "12 9\n",
      "12 9\n",
      "9 12\n",
      "[9, 76, 45, 23, 54, 12]\n",
      "76 45\n",
      "76 45\n",
      "45 76\n",
      "[9, 45, 76, 23, 54, 12]\n",
      "45 23\n",
      "45 23\n",
      "23 45\n",
      "[9, 23, 76, 45, 54, 12]\n",
      "23 54\n",
      "23 12\n",
      "23 12\n",
      "12 23\n",
      "[9, 12, 76, 45, 54, 23]\n",
      "76 45\n",
      "76 45\n",
      "45 76\n",
      "[9, 12, 45, 76, 54, 23]\n",
      "45 54\n",
      "45 23\n",
      "45 23\n",
      "23 45\n",
      "[9, 12, 23, 76, 54, 45]\n",
      "76 54\n",
      "76 54\n",
      "54 76\n",
      "[9, 12, 23, 54, 76, 45]\n",
      "54 45\n",
      "54 45\n",
      "45 54\n",
      "[9, 12, 23, 45, 76, 54]\n",
      "76 54\n",
      "76 54\n",
      "54 76\n",
      "[9, 12, 23, 45, 54, 76]\n",
      "Sorted List [9, 12, 23, 45, 54, 76]\n",
      "[[9, 12, 23, 45, 54, 76]]\n"
     ]
    }
   ],
   "source": [
    "\n",
    "l1=[76, 23, 45, 12, 54, 9] \n",
    "print(\"Original List:\", l1)\n",
    "sort=[]\n",
    " \n",
    "# sorting list using nested loops\n",
    "for i in range(0, len(l1)):\n",
    "    for j in range(i+1, len(l1)):\n",
    "        print( l1[i], l1[j])\n",
    "        if l1[i] >= l1[j]:\n",
    "            print(l1[i],l1[j])\n",
    "            l1[i], l1[j] = l1[j],l1[i]\n",
    "            print( l1[i], l1[j])\n",
    "            print(l1)\n",
    "# sorted list\n",
    "print(\"Sorted List\", l1)\n",
    "print(sort)"
   ]
  },
  {
   "cell_type": "code",
   "execution_count": 18,
   "id": "5f5a91c9-d8ec-46a3-bd04-d6962c163349",
   "metadata": {},
   "outputs": [
    {
     "name": "stdin",
     "output_type": "stream",
     "text": [
      "enter the celcius 32\n"
     ]
    },
    {
     "name": "stdout",
     "output_type": "stream",
     "text": [
      "89.6\n"
     ]
    }
   ],
   "source": [
    "#covert celcius to  farenheit  formula =celcius*9/5 + 32\n",
    "cel=int(input(\"enter the celcius\"))\n",
    "farenheit=(cel*1.8)+32\n",
    "print(farenheit)"
   ]
  },
  {
   "cell_type": "code",
   "execution_count": 21,
   "id": "718c05d7-2c8c-49be-bb6f-25092ef00099",
   "metadata": {},
   "outputs": [
    {
     "name": "stdin",
     "output_type": "stream",
     "text": [
      "enter the number 22\n"
     ]
    },
    {
     "name": "stdout",
     "output_type": "stream",
     "text": [
      "4\n"
     ]
    }
   ],
   "source": [
    "#sum of digits\n",
    "number=int(input(\"enter the number\"))\n",
    "sum1=0\n",
    "temp=number\n",
    "while temp>0:\n",
    "    rem=temp%10\n",
    "    sum1+=rem\n",
    "    temp//=10\n",
    "print(sum1)\n"
   ]
  },
  {
   "cell_type": "code",
   "execution_count": null,
   "id": "5d659a21-6e34-465c-8dc3-720ec1d57301",
   "metadata": {},
   "outputs": [],
   "source": []
  }
 ],
 "metadata": {
  "kernelspec": {
   "display_name": "Python 3 (ipykernel)",
   "language": "python",
   "name": "python3"
  },
  "language_info": {
   "codemirror_mode": {
    "name": "ipython",
    "version": 3
   },
   "file_extension": ".py",
   "mimetype": "text/x-python",
   "name": "python",
   "nbconvert_exporter": "python",
   "pygments_lexer": "ipython3",
   "version": "3.12.7"
  }
 },
 "nbformat": 4,
 "nbformat_minor": 5
}
